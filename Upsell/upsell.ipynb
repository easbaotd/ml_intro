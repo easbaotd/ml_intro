{
 "cells": [
  {
   "cell_type": "markdown",
   "metadata": {},
   "source": [
    "# Simulation Sale"
   ]
  },
  {
   "cell_type": "markdown",
   "metadata": {},
   "source": [
    "1. [Feature Preprocessing and Generation](#feature_preprocessing_and_generation)\n",
    "2. [Exploratory Data Analysis (EDA)](#eda)\n",
    "3. [Feature Engineering, Feature Selection](#feature_engineering_feature_selection)\n",
    "4. [AR , MA , ARMA , ARIMA](#arima)\n",
    "5. [Validation](#validation)\n",
    "6. [Hyperparameter Optimization](#hyperparameter_tuning)\n",
    "7. [Ensembling](#ensembling)\n",
    "8. [Conclusion](#conclusion)"
   ]
  },
  {
   "cell_type": "markdown",
   "metadata": {},
   "source": [
    "#### <a id=\"feature_preprocessing_and_generation\">1. Feature Preprocessing and Generation </a>"
   ]
  },
  {
   "cell_type": "markdown",
   "metadata": {},
   "source": [
    "<p>Numeric, Categorical and ordinal, Datetime and coordinates, text and images</p>\n",
    "<p>Handling missing values</p>"
   ]
  },
  {
   "cell_type": "markdown",
   "metadata": {},
   "source": [
    "#### <a id=\"eda\">2. Exploratory Data Analysis (EDA) </a>\n",
    "<p>Building intuition about the data</p>\n",
    "<p>Visualizations</p>\n",
    "<p>Dataset cleaning</p>\n",
    "<p>Check for Data Leakages</p>"
   ]
  },
  {
   "cell_type": "markdown",
   "metadata": {},
   "source": [
    "#### <a id=\"feature_engineering_feature_selection\">3. Feature Engineering, Feature Selection </a>"
   ]
  },
  {
   "cell_type": "markdown",
   "metadata": {},
   "source": [
    "#### <a id=\"arima\">4. AR , MA , ARMA , ARIMA </a>"
   ]
  },
  {
   "cell_type": "markdown",
   "metadata": {},
   "source": [
    "#### <a id=\"validation\">5. Validation </a>"
   ]
  },
  {
   "cell_type": "markdown",
   "metadata": {},
   "source": [
    "<p>Akaike information criterion (AIC)</p>\n",
    "<p>Schwartz Bayesiancriterion (SBC)/Bayesian information criterion(BIC)</p>"
   ]
  },
  {
   "cell_type": "markdown",
   "metadata": {},
   "source": [
    "#### <a id=\"hyperparameter_tuning\">6. Hyperparameter Optimization </a>"
   ]
  },
  {
   "cell_type": "markdown",
   "metadata": {},
   "source": [
    "#### <a id=\"ensembling\">7. Ensembling </a>\n",
    "<p>Bagging, Boosting, Stacking, StackNet</p>"
   ]
  },
  {
   "cell_type": "markdown",
   "metadata": {},
   "source": [
    "#### <a id=\"conclusion\">8. Conclusion </a>"
   ]
  },
  {
   "cell_type": "code",
   "execution_count": null,
   "metadata": {},
   "outputs": [],
   "source": []
  }
 ],
 "metadata": {
  "kernelspec": {
   "display_name": "Python 3",
   "language": "python",
   "name": "python3"
  },
  "language_info": {
   "codemirror_mode": {
    "name": "ipython",
    "version": 3
   },
   "file_extension": ".py",
   "mimetype": "text/x-python",
   "name": "python",
   "nbconvert_exporter": "python",
   "pygments_lexer": "ipython3",
   "version": "3.7.1"
  }
 },
 "nbformat": 4,
 "nbformat_minor": 2
}
